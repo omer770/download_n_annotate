{
  "nbformat": 4,
  "nbformat_minor": 0,
  "metadata": {
    "colab": {
      "name": "Download_n_Annotate.ipynb",
      "provenance": [],
      "collapsed_sections": []
    },
    "kernelspec": {
      "name": "python3",
      "display_name": "Python 3"
    },
    "language_info": {
      "name": "python"
    }
  },
  "cells": [
    {
      "cell_type": "code",
      "source": [
        "!pip install -U --pre tensorflow==\"2.2.0\""
      ],
      "metadata": {
        "id": "fney4UOL2_ll"
      },
      "execution_count": null,
      "outputs": []
    },
    {
      "cell_type": "code",
      "source": [
        "!pip install bing-image-downloader"
      ],
      "metadata": {
        "colab": {
          "base_uri": "https://localhost:8080/"
        },
        "id": "MPbn2fl52tpY",
        "outputId": "668b1b58-a4d2-454a-92ed-c4f7b296dc0a"
      },
      "execution_count": null,
      "outputs": [
        {
          "output_type": "stream",
          "name": "stdout",
          "text": [
            "Looking in indexes: https://pypi.org/simple, https://us-python.pkg.dev/colab-wheels/public/simple/\n",
            "Collecting bing-image-downloader\n",
            "  Downloading bing_image_downloader-1.1.2-py3-none-any.whl (5.9 kB)\n",
            "Installing collected packages: bing-image-downloader\n",
            "Successfully installed bing-image-downloader-1.1.2\n"
          ]
        }
      ]
    },
    {
      "cell_type": "code",
      "execution_count": null,
      "metadata": {
        "id": "a6nq3No8WNlz"
      },
      "outputs": [],
      "source": [
        "import os\n",
        "\n",
        "from bing_image_downloader import downloader"
      ]
    },
    {
      "cell_type": "code",
      "source": [
        "items = input(\"List the comma separated items to be downloaded: \").replace(\" \",\"\").split(',')\n",
        "items.sort()\n",
        "quantity = int(input(\"Set the limit: \"))"
      ],
      "metadata": {
        "id": "EQfA95Wu3Wlu",
        "colab": {
          "base_uri": "https://localhost:8080/"
        },
        "outputId": "d7520bec-93de-4d9d-cbc5-b1d6584d4327"
      },
      "execution_count": null,
      "outputs": [
        {
          "name": "stdout",
          "output_type": "stream",
          "text": [
            "List the comma separated items to be downloaded: car , horse , cycle\n",
            "Set the limit: 10\n"
          ]
        }
      ]
    },
    {
      "cell_type": "code",
      "source": [
        "items"
      ],
      "metadata": {
        "colab": {
          "base_uri": "https://localhost:8080/"
        },
        "id": "jXzjgaXyaSc-",
        "outputId": "18461add-d8dc-447c-a338-ac164bd54f90"
      },
      "execution_count": null,
      "outputs": [
        {
          "output_type": "execute_result",
          "data": {
            "text/plain": [
              "['car', 'cycle', 'horse']"
            ]
          },
          "metadata": {},
          "execution_count": 7
        }
      ]
    },
    {
      "cell_type": "code",
      "source": [
        "for item in items:\n",
        "  downloader.download(item, limit=quantity,  output_dir='dataset',adult_filter_off=True, force_replace=False, timeout=60,filter='opencv,\".jpg\"')"
      ],
      "metadata": {
        "colab": {
          "base_uri": "https://localhost:8080/"
        },
        "id": "-C9XNdZMcKHG",
        "outputId": "6aae2372-7a41-4813-f370-1de343a13586"
      },
      "execution_count": null,
      "outputs": [
        {
          "output_type": "stream",
          "name": "stdout",
          "text": [
            "[%] File Downloaded !\n",
            "\n",
            "[%] Downloading Image #4 from https://4.bp.blogspot.com/-wscEaniqcXk/Uq_ALUHaYwI/AAAAAAAAFYI/T2jWeb10g4g/s640/cars+2014+2.jpg\n",
            "[%] File Downloaded !\n",
            "\n",
            "[%] Downloading Image #5 from http://2.bp.blogspot.com/-FnCUNlD0Jj8/UafhnSQN1CI/AAAAAAAAAdY/U4mtxWCBeA8/s640/cars-01.jpg\n",
            "[%] File Downloaded !\n",
            "\n",
            "[%] Downloading Image #6 from https://1.bp.blogspot.com/-8EELC8O6v18/Uux0Dqr43SI/AAAAAAAAFiI/S9meWMJTBSQ/s1600/2014+cars+7.jpg\n",
            "[%] File Downloaded !\n",
            "\n",
            "[%] Downloading Image #7 from https://www.9to5carwallpapers.com/wp-content/uploads/2013/06/Black-Bugatti-Veyron-1080p-Wallpaper.jpg\n",
            "[%] File Downloaded !\n",
            "\n",
            "[%] Downloading Image #8 from https://2.bp.blogspot.com/-J2o9vyRNDR8/U4Aw4QlMVuI/AAAAAAAAAGg/wZHVjslRBcg/s1600/car+images+3.jpg\n",
            "[%] File Downloaded !\n",
            "\n",
            "[%] Downloading Image #9 from http://2.bp.blogspot.com/-T_z0AASLq2U/T5_eCaB79iI/AAAAAAAABfs/WGI4t1vJCx0/s1600/cars+for+2012-7.jpg\n",
            "[%] File Downloaded !\n",
            "\n",
            "[%] Downloading Image #10 from https://1.bp.blogspot.com/-0Qlq7IbyhcA/Uf1teO8q0vI/AAAAAAAAeD4/iUTIgLASAV4/s320/6.jpg\n",
            "[%] File Downloaded !\n",
            "\n",
            "\n",
            "\n",
            "[%] Done. Downloaded 10 images.\n",
            "[%] Downloading Images to /content/dataset/cycle\n",
            "\n",
            "\n",
            "[!!]Indexing page: 1\n",
            "\n",
            "[%] Indexed 10 Images on Page 1.\n",
            "\n",
            "===============================================\n",
            "\n",
            "[%] Downloading Image #1 from http://1.bp.blogspot.com/_vzaH97UMUE8/TSYX7-stBfI/AAAAAAAAA-w/Uum21I5TWHA/s400/6.jpg\n",
            "[%] File Downloaded !\n",
            "\n",
            "[%] Downloading Image #2 from https://www.collinsdictionary.com/images/thumb/cycle_85658470_250.jpg?version=3.1.154\n",
            "[%] File Downloaded !\n",
            "\n",
            "[%] Downloading Image #3 from https://upload.wikimedia.org/wikipedia/commons/thumb/6/67/Cycle.JPG/800px-Cycle.JPG\n",
            "[%] File Downloaded !\n",
            "\n",
            "[%] Downloading Image #4 from https://i.ytimg.com/vi/XqG8iXXJlOE/hqdefault.jpg\n",
            "[%] File Downloaded !\n",
            "\n",
            "[%] Downloading Image #5 from https://i.ytimg.com/vi/fLCCO69MSvY/maxresdefault.jpg\n",
            "[%] File Downloaded !\n",
            "\n",
            "[%] Downloading Image #6 from https://i.ytimg.com/vi/wM6WDbO1bEY/maxresdefault.jpg\n",
            "[%] File Downloaded !\n",
            "\n",
            "[%] Downloading Image #7 from https://c2.staticflickr.com/6/5446/7059705703_a6a5419c2e_b.jpg\n",
            "[%] File Downloaded !\n",
            "\n",
            "[%] Downloading Image #8 from https://live.staticflickr.com/4135/4856136207_e6e58ed22e.jpg\n",
            "[%] File Downloaded !\n",
            "\n",
            "[%] Downloading Image #9 from http://minnesotawildflowers.info/udata/r9ndp23q/pd3/lycopodium-lagopus-071216-23.jpg\n",
            "[%] File Downloaded !\n",
            "\n",
            "[%] Downloading Image #10 from https://pbs.twimg.com/profile_images/3349018109/a38c66d150d8aaff0e08500fd9b349a3.jpeg\n",
            "[%] File Downloaded !\n",
            "\n",
            "\n",
            "\n",
            "[%] Done. Downloaded 10 images.\n",
            "[%] Downloading Images to /content/dataset/horse\n",
            "\n",
            "\n",
            "[!!]Indexing page: 1\n",
            "\n",
            "[%] Indexed 10 Images on Page 1.\n",
            "\n",
            "===============================================\n",
            "\n",
            "[%] Downloading Image #1 from http://images2.fanpop.com/images/photos/2900000/Horses-horses-2983344-640-480.jpg\n",
            "[%] File Downloaded !\n",
            "\n",
            "[%] Downloading Image #2 from http://media1.santabanta.com/full1/Animals/Horses/horses-67a.jpg\n",
            "[!] Issue getting: http://media1.santabanta.com/full1/Animals/Horses/horses-67a.jpg\n",
            "[!] Error:: <urlopen error timed out>\n",
            "[%] Downloading Image #2 from http://images2.fanpop.com/images/photos/3200000/Horses-horses-3221475-640-427.jpg\n",
            "[%] File Downloaded !\n",
            "\n",
            "[%] Downloading Image #3 from http://media1.santabanta.com/full1/Animals/Horses/horses-128a.jpg\n",
            "[!] Issue getting: http://media1.santabanta.com/full1/Animals/Horses/horses-128a.jpg\n",
            "[!] Error:: <urlopen error timed out>\n",
            "[%] Downloading Image #3 from https://www.animaatjes.nl/wallpapers/wallpapers/paarden/animaatjes-paarden-39282.jpg\n",
            "[%] File Downloaded !\n",
            "\n",
            "[%] Downloading Image #4 from https://ihearthorses.com/wp-content/uploads/2017/05/horse-1149421_640-1.jpg\n",
            "[%] File Downloaded !\n",
            "\n",
            "[%] Downloading Image #5 from http://media.santabanta.com/medium1/animals/horses/horses-31a.jpg\n",
            "[!] Issue getting: http://media.santabanta.com/medium1/animals/horses/horses-31a.jpg\n",
            "[!] Error:: <urlopen error timed out>\n",
            "[%] Downloading Image #5 from https://img.xcitefun.net/users/2015/01/380543,xcitefun-baby-horse-11.jpg\n",
            "[%] File Downloaded !\n",
            "\n",
            "[%] Downloading Image #6 from https://girlspics.cc/wp-content/uploads/2018/06/3693-4.jpg\n",
            "[%] File Downloaded !\n",
            "\n",
            "[%] Downloading Image #7 from http://i1247.photobucket.com/albums/gg633/rahudson18/horse.jpg\n",
            "[Error]Invalid image, not saving http://i1247.photobucket.com/albums/gg633/rahudson18/horse.jpg\n",
            "\n",
            "[!] Issue getting: http://i1247.photobucket.com/albums/gg633/rahudson18/horse.jpg\n",
            "[!] Error:: Invalid image, not saving http://i1247.photobucket.com/albums/gg633/rahudson18/horse.jpg\n",
            "\n",
            "\n",
            "\n",
            "[!!]Indexing page: 2\n",
            "\n",
            "[%] Indexed 14 Images on Page 2.\n",
            "\n",
            "===============================================\n",
            "\n",
            "[%] Downloading Image #7 from http://images5.fanpop.com/image/photos/31400000/horse-horses-31429151-1600-1200.jpg\n",
            "[%] File Downloaded !\n",
            "\n",
            "[%] Downloading Image #8 from http://images2.fanpop.com/images/photos/2900000/Horses-horses-2983337-640-442.jpg\n",
            "[%] File Downloaded !\n",
            "\n",
            "[%] Downloading Image #9 from https://1.bp.blogspot.com/_RAlP3BmEW1Q/TQUu2FQGu5I/AAAAAAAACA4/8mwI0lDzoNU/s1600/Paarden-achtergronden-paarden-wallpapers-20.jpg\n",
            "[%] File Downloaded !\n",
            "\n",
            "[%] Downloading Image #10 from https://1.bp.blogspot.com/_RAlP3BmEW1Q/TQUvMLl7cXI/AAAAAAAACBs/RToC5gPWtLo/s1600/Paarden-achtergronden-paarden-wallpapers-33.jpg\n",
            "[%] File Downloaded !\n",
            "\n",
            "\n",
            "\n",
            "[%] Done. Downloaded 10 images.\n"
          ]
        }
      ]
    },
    {
      "cell_type": "code",
      "source": [
        ""
      ],
      "metadata": {
        "id": "KgXTJdenNknc"
      },
      "execution_count": null,
      "outputs": []
    },
    {
      "cell_type": "code",
      "source": [
        ""
      ],
      "metadata": {
        "id": "-wCL3SdeQ2YA"
      },
      "execution_count": null,
      "outputs": []
    },
    {
      "cell_type": "code",
      "metadata": {
        "id": "Vy0uP3jv2j67"
      },
      "source": [
        ""
      ],
      "execution_count": null,
      "outputs": []
    },
    {
      "cell_type": "code",
      "metadata": {
        "id": "6J5vMlwL5d0u"
      },
      "source": [
        "import pathlib\n",
        "\n",
        "# Clone the tensorflow models repository if it doesn't already exist\n",
        "if \"models\" in pathlib.Path.cwd().parts:\n",
        "  while \"models\" in pathlib.Path.cwd().parts:\n",
        "    os.chdir('..')\n",
        "elif not pathlib.Path('models').exists():\n",
        "  !git clone --depth 1 https://github.com/tensorflow/models"
      ],
      "execution_count": null,
      "outputs": []
    },
    {
      "cell_type": "code",
      "metadata": {
        "id": "zDtcO9Fz5hva"
      },
      "source": [
        "# Install the Object Detection API\n",
        "%%bash\n",
        "cd models/research/\n",
        "protoc object_detection/protos/*.proto --python_out=.\n",
        "cp object_detection/packages/tf2/setup.py .\n",
        "python -m pip install ."
      ],
      "execution_count": null,
      "outputs": []
    },
    {
      "cell_type": "code",
      "metadata": {
        "id": "xvIq0oey3TTY"
      },
      "source": [
        "import matplotlib\n",
        "import matplotlib.pyplot as plt\n",
        "\n",
        "import os\n",
        "import random\n",
        "import io\n",
        "import imageio\n",
        "import glob\n",
        "import scipy.misc\n",
        "import numpy as np\n",
        "from six import BytesIO\n",
        "from PIL import Image, ImageDraw, ImageFont\n",
        "from IPython.display import display, Javascript,clear_output\n",
        "from IPython.display import Image as IPyImage\n",
        "\n",
        "import tensorflow as tf"
      ],
      "execution_count": null,
      "outputs": []
    },
    {
      "cell_type": "code",
      "metadata": {
        "id": "tJA19OLV2Qxi"
      },
      "source": [
        "from object_detection.utils import label_map_util\n",
        "from object_detection.utils import config_util\n",
        "from object_detection.utils import visualization_utils as viz_utils\n",
        "from object_detection.utils import colab_utils\n",
        "from object_detection.builders import model_builder"
      ],
      "execution_count": null,
      "outputs": []
    },
    {
      "cell_type": "code",
      "source": [
        "def load_image_into_numpy_array(path):\n",
        "  \"\"\"Load an image from file into a numpy array.\n",
        "\n",
        "  Puts image into numpy array to feed into tensorflow graph.\n",
        "  Note that by convention we put it into a numpy array with shape\n",
        "  (height, width, channels), where channels=3 for RGB.\n",
        "\n",
        "  Args:\n",
        "    path: a file path.\n",
        "\n",
        "  Returns:\n",
        "    uint8 numpy array with shape (img_height, img_width, 3)\n",
        "  \"\"\"\n",
        "  img_data = tf.io.gfile.GFile(path, 'rb').read()\n",
        "  image = Image.open(BytesIO(img_data))\n",
        "  (im_width, im_height) = image.size\n",
        "  return np.array(image.getdata()).reshape(\n",
        "      (im_height, im_width, 3)).astype(np.uint8)\n"
      ],
      "metadata": {
        "id": "AAfPWAqRdigY"
      },
      "execution_count": null,
      "outputs": []
    },
    {
      "cell_type": "code",
      "source": [
        "pwd"
      ],
      "metadata": {
        "colab": {
          "base_uri": "https://localhost:8080/",
          "height": 36
        },
        "id": "phBw_DuRVn_d",
        "outputId": "f0b62922-3e45-4cd2-963d-035cde26f783"
      },
      "execution_count": null,
      "outputs": [
        {
          "output_type": "execute_result",
          "data": {
            "text/plain": [
              "'/content'"
            ],
            "application/vnd.google.colaboratory.intrinsic+json": {
              "type": "string"
            }
          },
          "metadata": {},
          "execution_count": 22
        }
      ]
    },
    {
      "cell_type": "code",
      "source": [
        ""
      ],
      "metadata": {
        "colab": {
          "base_uri": "https://localhost:8080/"
        },
        "id": "v8dTdLGVUG8H",
        "outputId": "655f44ed-a1b5-4947-ad92-583ee0c828ac"
      },
      "execution_count": null,
      "outputs": [
        {
          "output_type": "stream",
          "name": "stdout",
          "text": [
            "book\n",
            "pen\n",
            "bottle\n",
            "phone\n"
          ]
        }
      ]
    },
    {
      "cell_type": "code",
      "source": [
        ""
      ],
      "metadata": {
        "id": "mYG7qdWeUG6S"
      },
      "execution_count": null,
      "outputs": []
    },
    {
      "cell_type": "code",
      "source": [
        "# Load the images as numpy array\n",
        "gt_dir = []\n",
        "for item in items:\n",
        "  for k in os.listdir(\"/content/dataset/\"+item):\n",
        "    os.rename('/content/dataset/'+item+'/'+k,'/content/dataset/'+item+'/'+k.lower().replace('jpeg','jpg').replace('png','jpg'))\n",
        "  #print(item)\n",
        "\n",
        "  train_image_dir = '/content/dataset/'+item\n",
        "  names=os.listdir(train_image_dir)\n",
        "  train_images_np = []\n",
        "  for i in range(1,quantity+1):\n",
        "    image_path = os.path.join(train_image_dir, 'image_' + str(i) + '.jpg')\n",
        "    train_images_np.append(load_image_into_numpy_array(image_path))\n",
        "  gt_dir.append(train_images_np)\n",
        "\n"
      ],
      "metadata": {
        "id": "FyJzSWz0dido"
      },
      "execution_count": null,
      "outputs": []
    },
    {
      "cell_type": "markdown",
      "source": [
        "        \n",
        "        Annotaion\n",
        "          // stuff for image 1\n",
        "          [\n",
        "            // stuff for rect 1\n",
        "            {x, y, w, h},\n",
        "            // stuff for rect 2\n",
        "            {x, y, w, h},\n",
        "            ...\n",
        "          ]"
      ],
      "metadata": {
        "id": "2fNCg25YcW_k"
      }
    },
    {
      "cell_type": "code",
      "source": [
        "gt_itm"
      ],
      "metadata": {
        "colab": {
          "base_uri": "https://localhost:8080/"
        },
        "id": "9ZQLWu3uJeeF",
        "outputId": "3f2b531c-73fa-4455-9a87-52654bb127b6"
      },
      "execution_count": null,
      "outputs": [
        {
          "output_type": "execute_result",
          "data": {
            "text/plain": [
              "[['cat', 0], ['dog', 0], ['elephant', 0]]"
            ]
          },
          "metadata": {},
          "execution_count": 71
        }
      ]
    },
    {
      "cell_type": "code",
      "source": [
        "gt_itm =[]\n",
        "gt_dir_bb = []\n",
        "for item in items:\n",
        "  gt_itm.append([item,item.index(item)])\n",
        "  gt_boxes = []\n",
        "  colab_utils.annotate(gt_dir[items.index(item)], box_storage_pointer=gt_boxes)\n",
        "  gt_dir_bb.append(gt_boxes)\n",
        "  input(\"Done?\")\n",
        "  clear_output()\n",
        "  "
      ],
      "metadata": {
        "id": "9z9MFyQuvPRB",
        "colab": {
          "base_uri": "https://localhost:8080/",
          "height": 71
        },
        "outputId": "645e18f1-fe57-4294-8788-d17eafe4d9fd"
      },
      "execution_count": null,
      "outputs": [
        {
          "output_type": "display_data",
          "data": {
            "text/plain": [
              "<IPython.core.display.Javascript object>"
            ],
            "application/javascript": [
              "window[\"a0bd818c-f776-11ec-86d0-0242ac1c0002\"] = google.colab.output.getActiveOutputArea();\n",
              "//# sourceURL=js_6de98147db"
            ]
          },
          "metadata": {}
        },
        {
          "output_type": "display_data",
          "data": {
            "text/plain": [
              "<IPython.core.display.Javascript object>"
            ],
            "application/javascript": [
              "window[\"a0be5896-f776-11ec-86d0-0242ac1c0002\"] = document.querySelector(\"#errorlog\");\n",
              "//# sourceURL=js_1d3811c0d9"
            ]
          },
          "metadata": {}
        },
        {
          "output_type": "display_data",
          "data": {
            "text/plain": [
              "<IPython.core.display.Javascript object>"
            ],
            "application/javascript": [
              "window[\"a0bebb74-f776-11ec-86d0-0242ac1c0002\"] = google.colab.output.setActiveOutputArea(window[\"a0be5896-f776-11ec-86d0-0242ac1c0002\"]);\n",
              "//# sourceURL=js_88a8ea49cb"
            ]
          },
          "metadata": {}
        },
        {
          "output_type": "display_data",
          "data": {
            "text/plain": [
              "'--boxes array populated--'"
            ],
            "application/vnd.google.colaboratory.intrinsic+json": {
              "type": "string"
            }
          },
          "metadata": {}
        },
        {
          "output_type": "display_data",
          "data": {
            "text/plain": [
              "<IPython.core.display.Javascript object>"
            ],
            "application/javascript": [
              "window[\"a0bf8324-f776-11ec-86d0-0242ac1c0002\"] = google.colab.output.setActiveOutputArea(window[\"a0bd818c-f776-11ec-86d0-0242ac1c0002\"]);\n",
              "//# sourceURL=js_72fb761347"
            ]
          },
          "metadata": {}
        },
        {
          "output_type": "display_data",
          "data": {
            "text/plain": [
              "<IPython.core.display.Javascript object>"
            ],
            "application/javascript": [
              "window[\"a0c0f826-f776-11ec-86d0-0242ac1c0002\"] = google.colab.output.getActiveOutputArea();\n",
              "//# sourceURL=js_fe244fce9b"
            ]
          },
          "metadata": {}
        },
        {
          "output_type": "display_data",
          "data": {
            "text/plain": [
              "<IPython.core.display.Javascript object>"
            ],
            "application/javascript": [
              "window[\"a0c16e50-f776-11ec-86d0-0242ac1c0002\"] = document.querySelector(\"#errorlog\");\n",
              "//# sourceURL=js_db44338acf"
            ]
          },
          "metadata": {}
        },
        {
          "output_type": "display_data",
          "data": {
            "text/plain": [
              "<IPython.core.display.Javascript object>"
            ],
            "application/javascript": [
              "window[\"a0c1cfa8-f776-11ec-86d0-0242ac1c0002\"] = google.colab.output.setActiveOutputArea(window[\"a0c16e50-f776-11ec-86d0-0242ac1c0002\"]);\n",
              "//# sourceURL=js_1b34cda1ce"
            ]
          },
          "metadata": {}
        },
        {
          "output_type": "display_data",
          "data": {
            "text/plain": [
              "'--boxes array populated--'"
            ],
            "application/vnd.google.colaboratory.intrinsic+json": {
              "type": "string"
            }
          },
          "metadata": {}
        },
        {
          "output_type": "display_data",
          "data": {
            "text/plain": [
              "<IPython.core.display.Javascript object>"
            ],
            "application/javascript": [
              "window[\"a0c292bc-f776-11ec-86d0-0242ac1c0002\"] = google.colab.output.setActiveOutputArea(window[\"a0c0f826-f776-11ec-86d0-0242ac1c0002\"]);\n",
              "//# sourceURL=js_ee88658a14"
            ]
          },
          "metadata": {}
        },
        {
          "output_type": "display_data",
          "data": {
            "text/plain": [
              "<IPython.core.display.Javascript object>"
            ],
            "application/javascript": [
              "window[\"a0c4f354-f776-11ec-86d0-0242ac1c0002\"] = google.colab.output.getActiveOutputArea();\n",
              "//# sourceURL=js_35c0975614"
            ]
          },
          "metadata": {}
        },
        {
          "output_type": "display_data",
          "data": {
            "text/plain": [
              "<IPython.core.display.Javascript object>"
            ],
            "application/javascript": [
              "window[\"a0c56410-f776-11ec-86d0-0242ac1c0002\"] = document.querySelector(\"#errorlog\");\n",
              "//# sourceURL=js_a13b31ce33"
            ]
          },
          "metadata": {}
        },
        {
          "output_type": "display_data",
          "data": {
            "text/plain": [
              "<IPython.core.display.Javascript object>"
            ],
            "application/javascript": [
              "window[\"a0c5c9fa-f776-11ec-86d0-0242ac1c0002\"] = google.colab.output.setActiveOutputArea(window[\"a0c56410-f776-11ec-86d0-0242ac1c0002\"]);\n",
              "//# sourceURL=js_27b27de5b4"
            ]
          },
          "metadata": {}
        },
        {
          "output_type": "display_data",
          "data": {
            "text/plain": [
              "'--boxes array populated--'"
            ],
            "application/vnd.google.colaboratory.intrinsic+json": {
              "type": "string"
            }
          },
          "metadata": {}
        },
        {
          "output_type": "display_data",
          "data": {
            "text/plain": [
              "<IPython.core.display.Javascript object>"
            ],
            "application/javascript": [
              "window[\"a0c6d57a-f776-11ec-86d0-0242ac1c0002\"] = google.colab.output.setActiveOutputArea(window[\"a0c4f354-f776-11ec-86d0-0242ac1c0002\"]);\n",
              "//# sourceURL=js_5d3ac357b4"
            ]
          },
          "metadata": {}
        }
      ]
    },
    {
      "cell_type": "code",
      "source": [
        "gt_dir_bb"
      ],
      "metadata": {
        "colab": {
          "base_uri": "https://localhost:8080/"
        },
        "id": "2DUADWaBHbuz",
        "outputId": "055a6783-f67e-41cb-e8ae-c95fae3025c5"
      },
      "execution_count": null,
      "outputs": [
        {
          "output_type": "execute_result",
          "data": {
            "text/plain": [
              "[[None, None, None, None, None],\n",
              " [None, None, None, None, None],\n",
              " [None, None, None, None, None]]"
            ]
          },
          "metadata": {},
          "execution_count": 79
        }
      ]
    },
    {
      "cell_type": "code",
      "source": [
        "#Connect the code to Google drive to dump the annotations there\n",
        "# Now point to the folder with the images to be annotated\n",
        "from google.colab import drive\n",
        "drive.mount('/content/drive')"
      ],
      "metadata": {
        "id": "7cpSLdiq3XrY"
      },
      "execution_count": null,
      "outputs": []
    },
    {
      "cell_type": "code",
      "source": [
        "#import os\n",
        "# The path below should point to the directory containing this notebook and the associated utility files\n",
        "# Change it if necessary\n",
        "os.chdir('/content/drive/MyDrive/Annotation/')\n",
        "!ls"
      ],
      "metadata": {
        "id": "vxaRuDOl3ZI_"
      },
      "execution_count": null,
      "outputs": []
    },
    {
      "cell_type": "code",
      "source": [
        ""
      ],
      "metadata": {
        "id": "rW6ZcvP_3ZHh"
      },
      "execution_count": null,
      "outputs": []
    },
    {
      "cell_type": "code",
      "source": [
        "# Finally write the annotations to a file\n",
        "import json\n",
        "import numpy as np\n",
        "data={}\n",
        "data['bounding box']=[]\n",
        "data['bounding box'].append(gt_boxes)\n",
        "\n",
        "class NumpyEncoder(json.JSONEncoder):\n",
        "    \"\"\" Special json encoder for numpy types \"\"\"\n",
        "    def default(self, obj):\n",
        "        if isinstance(obj, np.integer):\n",
        "            return int(obj)\n",
        "        elif isinstance(obj, np.floating):\n",
        "            return float(obj)\n",
        "        elif isinstance(obj, np.ndarray):\n",
        "            return obj.tolist()\n",
        "        return json.JSONEncoder.default(self, obj)\n",
        "\n",
        "dumped = json.dumps(data, cls=NumpyEncoder)"
      ],
      "metadata": {
        "id": "31UzYq2YaLoL"
      },
      "execution_count": null,
      "outputs": []
    },
    {
      "cell_type": "code",
      "source": [
        "with open('data_others.txt', 'w') as f:\n",
        "    json.dump(dumped, f)"
      ],
      "metadata": {
        "id": "r16fclleaLlg"
      },
      "execution_count": null,
      "outputs": []
    },
    {
      "cell_type": "code",
      "source": [
        "gt_boxes[1]=[[0.11774305, 0.34166667, 0.89440972, 0.66770833],[0.11774305, 0.34166667, 0.78940972, 0.56770833]]"
      ],
      "metadata": {
        "id": "_oKYzRUGuGCm"
      },
      "execution_count": null,
      "outputs": []
    },
    {
      "cell_type": "code",
      "source": [
        "for j in range(quantity):\n",
        "    print(j, 'index')\n",
        "    for r in range(len(gt_boxes[j])):\n",
        "      print(gt_boxes[j][r])\n",
        "      #print(len(gt_boxes[j]))\n",
        "      #for r in range(len(gt_boxes[j])):\n",
        "           # elems = row[r]\n",
        "            #print(elems)"
      ],
      "metadata": {
        "id": "OZfgAsJkaLf7",
        "colab": {
          "base_uri": "https://localhost:8080/"
        },
        "outputId": "d85ca67b-0eab-441c-b44e-f523a93ec656"
      },
      "execution_count": null,
      "outputs": [
        {
          "output_type": "stream",
          "name": "stdout",
          "text": [
            "0 index\n",
            "[0.12940972 0.0032     1.         0.9632    ]\n",
            "1 index\n",
            "[0.11774305, 0.34166667, 0.89440972, 0.66770833]\n",
            "[0.11774305, 0.34166667, 0.78940972, 0.56770833]\n",
            "2 index\n",
            "[0.05774305 0.25362319 0.81274305 0.64492754]\n"
          ]
        }
      ]
    },
    {
      "cell_type": "code",
      "source": [
        "len(gt_boxes[3])"
      ],
      "metadata": {
        "id": "BBE1nBvXaLX4",
        "colab": {
          "base_uri": "https://localhost:8080/"
        },
        "outputId": "35972b47-9549-4867-d97d-369b48111ade"
      },
      "execution_count": null,
      "outputs": [
        {
          "output_type": "execute_result",
          "data": {
            "text/plain": [
              "3"
            ]
          },
          "metadata": {},
          "execution_count": 85
        }
      ]
    },
    {
      "cell_type": "code",
      "source": [
        ""
      ],
      "metadata": {
        "id": "JO_9lgnZ2_c-"
      },
      "execution_count": null,
      "outputs": []
    },
    {
      "cell_type": "code",
      "source": [
        "\"\"\"\n",
        "This script is to convert the txt annotation files to appropriate format needed by YOLO \n",
        "\"\"\"\n",
        "\n",
        "#import os\n",
        "from os import walk, getcwd\n",
        "from PIL import Image\n",
        "\n",
        "classes = items\n",
        "  \n",
        "\"\"\"-------------------------------------------------------------------\"\"\" \n",
        "\n",
        "\"\"\" Configure Paths\"\"\"   \n",
        "for clss in classes:\n",
        "    #mypath = \"Labels/laptop/\"   # mypath is the input path of our image txt file folder.firstly we are working on 1st object\n",
        "    mypath = \"/content/dataset/\"+clss+\"/\"\n",
        "    #outpath = \"Labels/output_laptop/\"  # where to store the final output txt file\n",
        "    outpath = \"/content/dataset/\"+clss+\"/\" # where to store the final output txt file\n",
        "\n",
        "    #cls = \"laptop\"   # on this object we want to train. Remember always train one class at a time. So I have trained first on it and now I am commenting this to work on other class\n",
        "    cls = clss   # on this object we want to train\n",
        "    if cls not in classes:\n",
        "        exit(0)\n",
        "    cls_id = classes.index(cls)\n",
        "\n",
        "    wd = getcwd()\n",
        "    list_file = open('%s/%s_list.txt'%(wd, cls), 'w')\n",
        "\n",
        "    \"\"\" Get input text file list \"\"\"\n",
        "    txt_name_list = []\n",
        "    for (dirpath, dirnames, filenames) in walk(mypath):\n",
        "        txt_name_list.extend(filenames)\n",
        "        break\n",
        "    print(txt_name_list)\n",
        "\n",
        "    \"\"\" Process \"\"\"\n",
        "    for j in range(quantity):\n",
        "        \n",
        "        txt_name =  'image_'+str(j+1)+\".txt\"\n",
        "        \"\"\" Open input text files \"\"\"\n",
        "        txt_path = mypath + txt_name\n",
        "        print(\"Input:\" + txt_path)\n",
        "        lins = []\n",
        "        #txt_file = open(txt_path, \"r\")\n",
        "        \n",
        "        #lines = txt_file.read().split('\\n')   #for ubuntu, use \"\\r\\n\" instead of \"\\n\"\n",
        "        \n",
        "        \"\"\" Open output text files \"\"\"\n",
        "        txt_outpath = outpath + 'image_'+str(j+1)+\".txt\"\n",
        "        print(\"Output:\" + txt_outpath)\n",
        "        txt_outfile = open(txt_outpath, \"w\")\n",
        "        \n",
        "        \n",
        "        \"\"\" Convert the data to YOLO format \"\"\"\n",
        "        ct = 0\n",
        "        for r in range(len(gt_boxes[j])):\n",
        "            elems =  gt_boxes[j][r]\n",
        "\n",
        "            x = elems[0]\n",
        "            w = elems[2]\n",
        "            y = elems[1]\n",
        "            h = elems[3]\n",
        "                #\n",
        "            #img_path = str('%s/dataset/%s/%s.jpg'%(wd, cls,'image_'+str(j+1)+'.jpg'))\n",
        "\n",
        "            bb = (x,y,w,h)\n",
        "            print(bb)\n",
        "            txt_outfile.write(str(cls_id) + \" \" + \" \".join([str(a) for a in bb]) + '\\n')\n",
        "\n",
        "        \"\"\" Save those images with bb into list\"\"\"\n",
        "        if(ct != 0):\n",
        "            list_file.write('%s/dataset/%s/%s.jpg\\n'%(wd, cls, os.path.splitext(txt_name)[0]))\n",
        "                    \n",
        "    list_file.close()  "
      ],
      "metadata": {
        "id": "XXMfM-MC2_YG",
        "colab": {
          "base_uri": "https://localhost:8080/"
        },
        "outputId": "33f9b219-40f2-4fcc-dc42-81b880e4ed56"
      },
      "execution_count": null,
      "outputs": [
        {
          "output_type": "stream",
          "name": "stdout",
          "text": [
            "['image_3.jpg', 'image_1.jpg', 'image_2.jpg']\n",
            "Input:/content/dataset/book/image_1.txt\n",
            "Output:/content/dataset/book/image_1.txt\n",
            "(0.12940972010294596, 0.0032, 1.0, 0.9632)\n",
            "Input:/content/dataset/book/image_2.txt\n",
            "Output:/content/dataset/book/image_2.txt\n",
            "(0.11774305, 0.34166667, 0.89440972, 0.66770833)\n",
            "(0.11774305, 0.34166667, 0.78940972, 0.56770833)\n",
            "Input:/content/dataset/book/image_3.txt\n",
            "Output:/content/dataset/book/image_3.txt\n",
            "(0.0577430534362793, 0.2536231884057971, 0.8127430534362793, 0.644927536231884)\n",
            "['image_3.gif', 'image_1.jpg', 'image_2.jpg']\n",
            "Input:/content/dataset/pen/image_1.txt\n",
            "Output:/content/dataset/pen/image_1.txt\n",
            "(0.12940972010294596, 0.0032, 1.0, 0.9632)\n",
            "Input:/content/dataset/pen/image_2.txt\n",
            "Output:/content/dataset/pen/image_2.txt\n",
            "(0.11774305, 0.34166667, 0.89440972, 0.66770833)\n",
            "(0.11774305, 0.34166667, 0.78940972, 0.56770833)\n",
            "Input:/content/dataset/pen/image_3.txt\n",
            "Output:/content/dataset/pen/image_3.txt\n",
            "(0.0577430534362793, 0.2536231884057971, 0.8127430534362793, 0.644927536231884)\n",
            "['image_3.jpg', 'image_1.jpg', 'image_2.jpg']\n",
            "Input:/content/dataset/bottle/image_1.txt\n",
            "Output:/content/dataset/bottle/image_1.txt\n",
            "(0.12940972010294596, 0.0032, 1.0, 0.9632)\n",
            "Input:/content/dataset/bottle/image_2.txt\n",
            "Output:/content/dataset/bottle/image_2.txt\n",
            "(0.11774305, 0.34166667, 0.89440972, 0.66770833)\n",
            "(0.11774305, 0.34166667, 0.78940972, 0.56770833)\n",
            "Input:/content/dataset/bottle/image_3.txt\n",
            "Output:/content/dataset/bottle/image_3.txt\n",
            "(0.0577430534362793, 0.2536231884057971, 0.8127430534362793, 0.644927536231884)\n"
          ]
        }
      ]
    },
    {
      "cell_type": "code",
      "source": [
        "gt_boxes"
      ],
      "metadata": {
        "colab": {
          "base_uri": "https://localhost:8080/"
        },
        "id": "OLVKe9Bnzr3S",
        "outputId": "159ba169-865b-4e70-ee49-bd2b565e8b71"
      },
      "execution_count": null,
      "outputs": [
        {
          "output_type": "execute_result",
          "data": {
            "text/plain": [
              "[array([[0.12940972, 0.0032    , 1.        , 0.9632    ]]),\n",
              " [[0.11774305, 0.34166667, 0.89440972, 0.66770833],\n",
              "  [0.11774305, 0.34166667, 0.78940972, 0.56770833]],\n",
              " array([[0.05774305, 0.25362319, 0.81274305, 0.64492754]])]"
            ]
          },
          "metadata": {},
          "execution_count": 39
        }
      ]
    },
    {
      "cell_type": "code",
      "source": [
        ""
      ],
      "metadata": {
        "id": "LQMERJ59lR3z"
      },
      "execution_count": null,
      "outputs": []
    },
    {
      "cell_type": "code",
      "source": [
        ""
      ],
      "metadata": {
        "id": "OApWbFRSlRzi"
      },
      "execution_count": null,
      "outputs": []
    },
    {
      "cell_type": "code",
      "source": [
        ""
      ],
      "metadata": {
        "id": "aF62U7AElRxC"
      },
      "execution_count": null,
      "outputs": []
    },
    {
      "cell_type": "code",
      "source": [
        "#Zip"
      ],
      "metadata": {
        "id": "5v0A05FGaSah"
      },
      "execution_count": null,
      "outputs": []
    },
    {
      "cell_type": "code",
      "source": [
        "!zip -r /content/dataset.zip /content/dataset"
      ],
      "metadata": {
        "id": "biQuBxuAaSYC"
      },
      "execution_count": null,
      "outputs": []
    },
    {
      "cell_type": "code",
      "source": [
        "fname = \"_\"\n",
        "fname = fname.join(items).replace(\" \",\"\")+'.zip'"
      ],
      "metadata": {
        "id": "0t1hAR-FehSb"
      },
      "execution_count": null,
      "outputs": []
    },
    {
      "cell_type": "code",
      "source": [
        "fname"
      ],
      "metadata": {
        "colab": {
          "base_uri": "https://localhost:8080/",
          "height": 35
        },
        "id": "nw7fqGfNaSUx",
        "outputId": "b28c851c-6008-49ca-d6ce-78ac8768623f"
      },
      "execution_count": null,
      "outputs": [
        {
          "output_type": "execute_result",
          "data": {
            "text/plain": [
              "'mobile_bottle_keyboard.zip'"
            ],
            "application/vnd.google.colaboratory.intrinsic+json": {
              "type": "string"
            }
          },
          "metadata": {},
          "execution_count": 26
        }
      ]
    },
    {
      "cell_type": "code",
      "source": [
        "os.rename('dataset.zip',fname)"
      ],
      "metadata": {
        "id": "ulPALMZadisI"
      },
      "execution_count": null,
      "outputs": []
    },
    {
      "cell_type": "code",
      "source": [
        ""
      ],
      "metadata": {
        "id": "fykTcb-LlRuT"
      },
      "execution_count": null,
      "outputs": []
    },
    {
      "cell_type": "code",
      "source": [
        ""
      ],
      "metadata": {
        "id": "Za4zYxaFlRqn"
      },
      "execution_count": null,
      "outputs": []
    },
    {
      "cell_type": "code",
      "source": [
        "#process.py\n",
        "\n",
        "import glob\n",
        "import os\n",
        "import numpy as np\n",
        "import sys\n",
        "\n",
        "current_dir = \"multiple_images\"\n",
        "split_pct = 10;\n",
        "file_train = open(\"train.txt\", \"w\")  \n",
        "file_val = open(\"test.txt\", \"w\")  \n",
        "counter = 1  \n",
        "index_test = round(100 / split_pct)  \n",
        "for pathAndFilename in glob.iglob(os.path.join(current_dir, \"*.jpg\")):  \n",
        "        title, ext = os.path.splitext(os.path.basename(pathAndFilename))\n",
        "        if counter == index_test:\n",
        "                counter = 1\n",
        "                file_val.write(current_dir + \"/\" + title + '.jpg' + \"\\n\")\n",
        "        else:\n",
        "                file_train.write(current_dir + \"/\" + title + '.jpg' + \"\\n\")\n",
        "                counter = counter + 1\n",
        "file_train.close()\n",
        "file_val.close()"
      ],
      "metadata": {
        "id": "Jt3GQbtenW96"
      },
      "execution_count": null,
      "outputs": []
    },
    {
      "cell_type": "code",
      "source": [
        "ct"
      ],
      "metadata": {
        "colab": {
          "base_uri": "https://localhost:8080/"
        },
        "id": "nhIVOh_GjkDk",
        "outputId": "9ebfaf6b-e833-4eb0-ab2a-a30ddfbfa4bc"
      },
      "execution_count": null,
      "outputs": [
        {
          "output_type": "execute_result",
          "data": {
            "text/plain": [
              "1"
            ]
          },
          "metadata": {},
          "execution_count": 50
        }
      ]
    },
    {
      "cell_type": "code",
      "source": [
        "print(len(line))"
      ],
      "metadata": {
        "colab": {
          "base_uri": "https://localhost:8080/"
        },
        "id": "PR5KB0qRjjn9",
        "outputId": "3c8fa8da-a080-4012-f0f6-39ef684c87ba"
      },
      "execution_count": null,
      "outputs": [
        {
          "output_type": "stream",
          "name": "stdout",
          "text": [
            "590340\n"
          ]
        }
      ]
    },
    {
      "cell_type": "code",
      "source": [
        "txt_path"
      ],
      "metadata": {
        "colab": {
          "base_uri": "https://localhost:8080/",
          "height": 36
        },
        "id": "-vzC8Qlsl5eE",
        "outputId": "f947d4d3-d4ed-48fc-895a-9790353756d6"
      },
      "execution_count": null,
      "outputs": [
        {
          "output_type": "execute_result",
          "data": {
            "text/plain": [
              "'/content/dataset/bottle/image_2.jpg'"
            ],
            "application/vnd.google.colaboratory.intrinsic+json": {
              "type": "string"
            }
          },
          "metadata": {},
          "execution_count": 57
        }
      ]
    }
  ]
}